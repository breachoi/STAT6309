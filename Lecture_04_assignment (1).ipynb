{
 "cells": [
  {
   "cell_type": "markdown",
   "id": "7914a7ab-9ba3-4e1b-97b0-5c522e9f3bf3",
   "metadata": {},
   "source": [
    "# Practice"
   ]
  },
  {
   "cell_type": "markdown",
   "id": "36f665fb-73ca-4179-b88a-d4dac6c93311",
   "metadata": {},
   "source": [
    "We will use the wine quality data (https://archive.ics.uci.edu/ml/datasets/Wine+Quality). Only use np library for this practice."
   ]
  },
  {
   "cell_type": "code",
   "execution_count": 1,
   "id": "77bfcf6e-a558-4714-8fbe-52910e46d6ba",
   "metadata": {},
   "outputs": [],
   "source": [
    "import numpy as np"
   ]
  },
  {
   "cell_type": "code",
   "execution_count": 42,
   "id": "d4a653b3-ae12-46f0-b8e7-567162f8ef11",
   "metadata": {},
   "outputs": [
    {
     "name": "stdout",
     "output_type": "stream",
     "text": [
      "[[ 7.4    0.7    0.    ...  0.56   9.4    5.   ]\n",
      " [ 7.8    0.88   0.    ...  0.68   9.8    5.   ]\n",
      " [ 7.8    0.76   0.04  ...  0.65   9.8    5.   ]\n",
      " ...\n",
      " [ 6.3    0.51   0.13  ...  0.75  11.     6.   ]\n",
      " [ 5.9    0.645  0.12  ...  0.71  10.2    5.   ]\n",
      " [ 6.     0.31   0.47  ...  0.66  11.     6.   ]]\n"
     ]
    }
   ],
   "source": [
    "wines_red = np.genfromtxt(\"winequality-red.csv\", delimiter=\";\", skip_header=1) # import dataset\n",
    "print(wines_red)"
   ]
  },
  {
   "cell_type": "markdown",
   "id": "09ef1986-6528-41c2-9937-e46d8296fe70",
   "metadata": {},
   "source": [
    "1. Check the size of the red wine quality dataset"
   ]
  },
  {
   "cell_type": "code",
   "execution_count": 43,
   "id": "5f76ba7e-1fc9-4301-aa15-cae277737758",
   "metadata": {},
   "outputs": [
    {
     "name": "stdout",
     "output_type": "stream",
     "text": [
      "(1599, 12)\n"
     ]
    }
   ],
   "source": [
    "#build the array\n",
    "wines = np.array(wines_red)\n",
    "\n",
    "#check the dataset size\n",
    "print(np.shape(wines))\n"
   ]
  },
  {
   "cell_type": "markdown",
   "id": "a7c0fbcb-bea7-4f99-aa27-aa615ea42a1b",
   "metadata": {},
   "source": [
    "2. Write a function to return np array of five number summaries (minimum, maximum, median, Q1, and Q3) of all columns for a given np array (input: np array to compute five number summaries, output: np array of five number summaries). Using this function, find the five number summary of the red wine quality dataset."
   ]
  },
  {
   "cell_type": "code",
   "execution_count": 69,
   "id": "e13db5e4-48d0-4b5c-aae9-81d99c4f45ea",
   "metadata": {},
   "outputs": [
    {
     "data": {
      "text/plain": [
       "array([[4.60000e+00, 1.20000e-01, 0.00000e+00, 9.00000e-01, 1.20000e-02,\n",
       "        1.00000e+00, 6.00000e+00, 9.90070e-01, 2.74000e+00, 3.30000e-01,\n",
       "        8.40000e+00, 3.00000e+00],\n",
       "       [1.59000e+01, 1.58000e+00, 1.00000e+00, 1.55000e+01, 6.11000e-01,\n",
       "        7.20000e+01, 2.89000e+02, 1.00369e+00, 4.01000e+00, 2.00000e+00,\n",
       "        1.49000e+01, 8.00000e+00],\n",
       "       [7.90000e+00, 5.20000e-01, 2.60000e-01, 2.20000e+00, 7.90000e-02,\n",
       "        1.40000e+01, 3.80000e+01, 9.96750e-01, 3.31000e+00, 6.20000e-01,\n",
       "        1.02000e+01, 6.00000e+00],\n",
       "       [7.10000e+00, 3.90000e-01, 9.00000e-02, 1.90000e+00, 7.00000e-02,\n",
       "        7.00000e+00, 2.20000e+01, 9.95600e-01, 3.21000e+00, 5.50000e-01,\n",
       "        9.50000e+00, 5.00000e+00],\n",
       "       [9.20000e+00, 6.40000e-01, 4.20000e-01, 2.60000e+00, 9.00000e-02,\n",
       "        2.10000e+01, 6.20000e+01, 9.97835e-01, 3.40000e+00, 7.30000e-01,\n",
       "        1.11000e+01, 6.00000e+00]])"
      ]
     },
     "execution_count": 69,
     "metadata": {},
     "output_type": "execute_result"
    }
   ],
   "source": [
    "#build the array\n",
    "wines = np.array(wines_red)\n",
    "\n",
    "#build the function that find five number\n",
    "def f_number():\n",
    "    x_min = np.min(wines,axis = 0) \n",
    "    x_max = np.max(wines,axis = 0)\n",
    "    x_median = np.median(wines,axis = 0)\n",
    "    x_per1 = np.percentile(wines, 25, axis = 0)\n",
    "    x_per3 = np.percentile(wines, 75, axis = 0)\n",
    "    summary = np.array([x_min, x_max, x_median, x_per1, x_per3])\n",
    "    return summary\n",
    "    \n",
    "#print the function   \n",
    "f_number()"
   ]
  },
  {
   "cell_type": "markdown",
   "id": "7bb7f7b6-b2c3-445e-9980-0d19a47803bb",
   "metadata": {},
   "source": [
    "3. Write a function to return five number summary (minimum, maximum, median, Q1, and Q3) of a specific column for a given np array (input: 1) np array to compute five number summaries and 2) column number, output: five number summary of a specific column). Using this function, find the five number summary of the second column of the red wine quality dataset."
   ]
  },
  {
   "cell_type": "code",
   "execution_count": 107,
   "id": "df12ae8d-a116-404e-8e86-8cb754983be5",
   "metadata": {},
   "outputs": [
    {
     "data": {
      "text/plain": [
       "[0.12, 1.58, 0.52, 0.39, 0.64]"
      ]
     },
     "execution_count": 107,
     "metadata": {},
     "output_type": "execute_result"
    }
   ],
   "source": [
    "#build the array\n",
    "wines = np.array(wines_red)\n",
    "\n",
    "#build the function that find five number\n",
    "def red_number():\n",
    "    x_min = np.min(wines,axis = 0)\n",
    "    x_max = np.max(wines,axis = 0)\n",
    "    x_median = np.median(wines,axis = 0)\n",
    "    x_per1 = np.percentile(wines, 25, axis = 0)\n",
    "    x_per3 = np.percentile(wines, 75, axis = 0)\n",
    "    summary = np.array([x_min, x_max, x_median, x_per1, x_per3])\n",
    "    \n",
    "    #find the specific column\n",
    "    column = [row[1] for row in summary]\n",
    "    return column\n",
    "\n",
    "red_number()"
   ]
  },
  {
   "cell_type": "markdown",
   "id": "bb1771e0-aaf6-4a33-a59a-3fe5ed74aa19",
   "metadata": {},
   "source": [
    "4. From the function in Q3, add the feature to print warning messages when the incorrect inputs (e.g., incorrect data type or incorrect column number) are given. Think about the possible error cases and return warning messages accordingly. Test the function with different error cases."
   ]
  },
  {
   "cell_type": "code",
   "execution_count": 208,
   "id": "3428a09a-0235-4109-8a6a-7788e7dde390",
   "metadata": {},
   "outputs": [
    {
     "name": "stdout",
     "output_type": "stream",
     "text": [
      "incorrect data type\n",
      "incorrect data type\n"
     ]
    }
   ],
   "source": [
    "wines = np.array(wines_red)\n",
    "wine = [1, 2, 3, 4]  \n",
    "\n",
    "\n",
    "def red_number(x, y):\n",
    "    # build the logic\n",
    "    if type(x) is not list:\n",
    "        print(\"incorrect data type\")\n",
    "\n",
    "    x_min = np.min(wines,axis = 0)\n",
    "    x_max = np.max(wines,axis = 0)\n",
    "    x_median = np.median(wines,axis = 0)\n",
    "    x_per1 = np.percentile(wines, 25, axis = 0)\n",
    "    x_per3 = np.percentile(wines, 75, axis = 0)\n",
    "    summary = np.array([x_min, x_max, x_median, x_per1, x_per3])\n",
    "    column = [row[1] for row in summary]\n",
    "\n",
    "#check logic           \n",
    "red_number(wines, 7)\n"
   ]
  },
  {
   "cell_type": "markdown",
   "id": "e6b24299-b918-49f9-bdce-8bfd9ee6d318",
   "metadata": {},
   "source": [
    "5. Load the winequality-white.csv and combine two datasets and save it as winequality"
   ]
  },
  {
   "cell_type": "code",
   "execution_count": 159,
   "id": "a7e6fa4e-5b60-4d78-a5b0-5df822f7c79e",
   "metadata": {},
   "outputs": [
    {
     "name": "stdout",
     "output_type": "stream",
     "text": [
      "     fixed acidity;\"volatile acidity\";\"citric acid\";\"residual sugar\";\"chlorides\";\"free sulfur dioxide\";\"total sulfur dioxide\";\"density\";\"pH\";\"sulphates\";\"alcohol\";\"quality\"\n",
      "0      7.4;0.7;0;1.9;0.076;11;34;0.9978;3.51;0.56;9.4;5                                                                                                                     \n",
      "1      7.8;0.88;0;2.6;0.098;25;67;0.9968;3.2;0.68;9.8;5                                                                                                                     \n",
      "2     7.8;0.76;0.04;2.3;0.092;15;54;0.997;3.26;0.65;...                                                                                                                     \n",
      "3     11.2;0.28;0.56;1.9;0.075;17;60;0.998;3.16;0.58...                                                                                                                     \n",
      "4      7.4;0.7;0;1.9;0.076;11;34;0.9978;3.51;0.56;9.4;5                                                                                                                     \n",
      "...                                                 ...                                                                                                                     \n",
      "6492  6.2;0.21;0.29;1.6;0.039;24;92;0.99114;3.27;0.5...                                                                                                                     \n",
      "6493  6.6;0.32;0.36;8;0.047;57;168;0.9949;3.15;0.46;...                                                                                                                     \n",
      "6494  6.5;0.24;0.19;1.2;0.041;30;111;0.99254;2.99;0....                                                                                                                     \n",
      "6495  5.5;0.29;0.3;1.1;0.022;20;110;0.98869;3.34;0.3...                                                                                                                     \n",
      "6496  6;0.21;0.38;0.8;0.02;22;98;0.98941;3.26;0.32;1...                                                                                                                     \n",
      "\n",
      "[6497 rows x 1 columns]\n"
     ]
    }
   ],
   "source": [
    "import pandas as pd\n",
    "\n",
    "#read the datasets\n",
    "data1 = pd.read_csv('winequality-red.csv')  \n",
    "data2 = pd.read_csv('winequality-white.csv') \n",
    "\n",
    "#combine datasets\n",
    "combined_data = pd.concat([data1, data2], ignore_index=True)\n",
    "\n",
    "print(combined_data)"
   ]
  },
  {
   "cell_type": "code",
   "execution_count": null,
   "id": "27f1a0f3-122d-4789-8bc2-48f1b28f66f1",
   "metadata": {},
   "outputs": [],
   "source": []
  }
 ],
 "metadata": {
  "kernelspec": {
   "display_name": "Python 3 (ipykernel)",
   "language": "python",
   "name": "python3"
  },
  "language_info": {
   "codemirror_mode": {
    "name": "ipython",
    "version": 3
   },
   "file_extension": ".py",
   "mimetype": "text/x-python",
   "name": "python",
   "nbconvert_exporter": "python",
   "pygments_lexer": "ipython3",
   "version": "3.12.7"
  }
 },
 "nbformat": 4,
 "nbformat_minor": 5
}
